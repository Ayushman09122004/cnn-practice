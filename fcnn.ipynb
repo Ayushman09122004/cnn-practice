{
 "cells": [
  {
   "cell_type": "code",
   "execution_count": 2,
   "id": "6eadcb14-b615-472a-a6da-bc7f29de754a",
   "metadata": {},
   "outputs": [],
   "source": [
    "import pandas as pd \n",
    "import numpy as np "
   ]
  },
  {
   "cell_type": "code",
   "execution_count": 3,
   "id": "889184f3-aac4-4053-8c23-c6fcaf4b19e0",
   "metadata": {},
   "outputs": [],
   "source": [
    "from tensorflow.keras import datasets, layers, models\n",
    "import matplotlib.pyplot as plt\n",
    "import numpy as np"
   ]
  },
  {
   "cell_type": "code",
   "execution_count": 4,
   "id": "66d781a1-d363-47a4-a0d5-0db7c7d065cb",
   "metadata": {},
   "outputs": [],
   "source": [
    "from tensorflow.keras.datasets import fashion_mnist\n",
    "(x_train, y_train), (x_test, y_test) = fashion_mnist.load_data()"
   ]
  },
  {
   "cell_type": "markdown",
   "id": "50053221-abd0-4e15-9e9f-f52325679c00",
   "metadata": {},
   "source": [
    "a. Compute and display the number of classes."
   ]
  },
  {
   "cell_type": "code",
   "execution_count": 5,
   "id": "8145123f-fcbb-4ced-ab44-2fa0aab18977",
   "metadata": {},
   "outputs": [
    {
     "data": {
      "text/plain": [
       "10"
      ]
     },
     "execution_count": 5,
     "metadata": {},
     "output_type": "execute_result"
    }
   ],
   "source": [
    "len(np.unique(y_train))"
   ]
  },
  {
   "cell_type": "markdown",
   "id": "b73e9de6-0354-4932-a4fa-ea59811811d4",
   "metadata": {},
   "source": [
    "b. Compute and display the dimensions of each image."
   ]
  },
  {
   "cell_type": "code",
   "execution_count": 6,
   "id": "72669dbd-ca8b-47b0-85ba-860eefb3a6b8",
   "metadata": {},
   "outputs": [
    {
     "data": {
      "text/plain": [
       "(60000, 28, 28)"
      ]
     },
     "execution_count": 6,
     "metadata": {},
     "output_type": "execute_result"
    }
   ],
   "source": [
    "x_train.shape"
   ]
  },
  {
   "cell_type": "code",
   "execution_count": 7,
   "id": "7dd05a82-52b0-4de3-ae56-de1c314c4639",
   "metadata": {},
   "outputs": [
    {
     "data": {
      "text/plain": [
       "(28, 28)"
      ]
     },
     "execution_count": 7,
     "metadata": {},
     "output_type": "execute_result"
    }
   ],
   "source": [
    "x_train[0].shape"
   ]
  },
  {
   "cell_type": "code",
   "execution_count": 8,
   "id": "aa39c92b-eea8-4666-993e-45f2ec861124",
   "metadata": {},
   "outputs": [],
   "source": [
    "class_names = ['T-shirt/top', 'Trouser', 'Pullover', 'Dress', 'Coat', \n",
    "               'Sandal', 'Shirt', 'Sneaker', 'Bag', 'Ankle boot']"
   ]
  },
  {
   "cell_type": "code",
   "execution_count": 9,
   "id": "6a50420f-8b39-4bf9-a874-9bf8ac77c0c8",
   "metadata": {},
   "outputs": [],
   "source": [
    "def show (x_train,y_train,i):\n",
    "    plt.figure(figsize=(3,3))\n",
    "    plt.imshow(x_train[i])\n",
    "    plt.xlabel(class_names[y_train[i]])"
   ]
  },
  {
   "cell_type": "code",
   "execution_count": 10,
   "id": "4348de97-c309-4f03-9512-c27c74c9d150",
   "metadata": {},
   "outputs": [
    {
     "data": {
      "image/png": "[encoded data removed]",
      "text/plain": [
       "<Figure size 300x300 with 1 Axes>"
      ]
     },
     "metadata": {},
     "output_type": "display_data"
    }
   ],
   "source": [
    "show(x_train,y_train,24)"
   ]
  },
  {
   "cell_type": "markdown",
   "id": "6b4d3fc9-b536-48a0-b125-9dabbaab7a45",
   "metadata": {},
   "source": [
    "d. Perform normalization"
   ]
  },
  {
   "cell_type": "code",
   "execution_count": 13,
   "id": "a9ca424b-71b8-4fb3-a5b6-5259e9617a61",
   "metadata": {},
   "outputs": [],
   "source": [
    "x_train=x_train/255"
   ]
  },
  {
   "cell_type": "code",
   "execution_count": 14,
   "id": "6a5a4657-a071-4bb5-ab9f-e303a698888d",
   "metadata": {},
   "outputs": [
    {
     "data": {
      "text/plain": [
       "0.00392156862745098"
      ]
     },
     "execution_count": 14,
     "metadata": {},
     "output_type": "execute_result"
    }
   ],
   "source": [
    "x_train.max()"
   ]
  },
  {
   "cell_type": "markdown",
   "id": "15650e7d-88c0-42e9-918f-f3b9cf8dcc73",
   "metadata": {},
   "source": [
    "Q2) Performing experiments on Fully Connected Neural Networks (FCNN): \r\n",
    "a. Design a FCNN which is most suitable for the given dataset:  \r\n",
    "Experimentally choose the best network (the intuitions and learnings from the experiments you \r\n",
    "have performed in Week-1 and Week-2 will help you choose the hyperparameters for the \r\n",
    "network).. \r\n"
   ]
  },
  {
   "cell_type": "code",
   "execution_count": 19,
   "id": "ab93de9b-ad17-45bb-b515-b686e145d780",
   "metadata": {},
   "outputs": [],
   "source": [
    "from tensorflow.keras import Sequential\n",
    "from tensorflow.keras.layers import Flatten, Dense"
   ]
  },
  {
   "cell_type": "code",
   "execution_count": 20,
   "id": "712bef65-b9d9-4205-94eb-27295de83249",
   "metadata": {},
   "outputs": [],
   "source": [
    "model=Sequential([\n",
    "    Flatten(input_shape=(28,28)),\n",
    "    Dense(1000,activation='relu'),\n",
    "    Dense(500,activation='relu'),\n",
    "    Dense(200,activation='relu'),\n",
    "    Dense(10,activation='softmax'),\n",
    "\n",
    "])"
   ]
  },
  {
   "cell_type": "code",
   "execution_count": 21,
   "id": "463b17d2-9180-40cb-81a3-1569fb14b870",
   "metadata": {},
   "outputs": [],
   "source": [
    "# Use categorical_crossentropy for one-hot encoded labels.\n",
    "# Use sparse_categorical_crossentropy for integer-encoded labels.\n",
    "model.compile(optimizer='adam',loss='sparse_categorical_crossentropy',metrics=['accuracy'])"
   ]
  },
  {
   "cell_type": "code",
   "execution_count": 22,
   "id": "245ad262-4e85-4682-9371-d2b41afda78f",
   "metadata": {},
   "outputs": [
    {
     "name": "stdout",
     "output_type": "stream",
     "text": [
      "Epoch 1/3\n",
      "\u001b[1m1875/1875\u001b[0m \u001b[32m━━━━━━━━━━━━━━━━━━━━\u001b[0m\u001b[37m\u001b[0m \u001b[1m29s\u001b[0m 15ms/step - accuracy: 0.6636 - loss: 0.8910\n",
      "Epoch 2/3\n",
      "\u001b[1m1875/1875\u001b[0m \u001b[32m━━━━━━━━━━━━━━━━━━━━\u001b[0m\u001b[37m\u001b[0m \u001b[1m28s\u001b[0m 15ms/step - accuracy: 0.8313 - loss: 0.4536\n",
      "Epoch 3/3\n",
      "\u001b[1m1875/1875\u001b[0m \u001b[32m━━━━━━━━━━━━━━━━━━━━\u001b[0m\u001b[37m\u001b[0m \u001b[1m31s\u001b[0m 17ms/step - accuracy: 0.8533 - loss: 0.3935\n"
     ]
    }
   ],
   "source": [
    "history=model.fit(x_train,y_train,epochs=3)"
   ]
  },
  {
   "cell_type": "code",
   "execution_count": 23,
   "id": "6c2d4ff8-323b-4382-ab23-9f88155969d9",
   "metadata": {},
   "outputs": [
    {
     "name": "stdout",
     "output_type": "stream",
     "text": [
      "\u001b[1m313/313\u001b[0m \u001b[32m━━━━━━━━━━━━━━━━━━━━\u001b[0m\u001b[37m\u001b[0m \u001b[1m1s\u001b[0m 3ms/step - accuracy: 0.7476 - loss: 18365.9707\n"
     ]
    }
   ],
   "source": [
    "b=model.evaluate(x_test,y_test)"
   ]
  },
  {
   "cell_type": "code",
   "execution_count": 24,
   "id": "773b3ef9-0b67-4ad8-8ffe-5b7bec9d5346",
   "metadata": {},
   "outputs": [
    {
     "data": {
      "text/plain": [
       "[19820.52734375, 0.7390999794006348]"
      ]
     },
     "execution_count": 24,
     "metadata": {},
     "output_type": "execute_result"
    }
   ],
   "source": [
    "b"
   ]
  },
  {
   "cell_type": "code",
   "execution_count": 25,
   "id": "1e754162-47bb-48a0-9ba7-e46ae33e8870",
   "metadata": {},
   "outputs": [
    {
     "data": {
      "text/plain": [
       "(28, 28)"
      ]
     },
     "execution_count": 25,
     "metadata": {},
     "output_type": "execute_result"
    }
   ],
   "source": [
    "x_test[1].shape"
   ]
  },
  {
   "cell_type": "code",
   "execution_count": 100,
   "id": "288fcabd-16d9-42bd-a048-112a4b78f839",
   "metadata": {},
   "outputs": [
    {
     "name": "stdout",
     "output_type": "stream",
     "text": [
      "\u001b[1m1/1\u001b[0m \u001b[32m━━━━━━━━━━━━━━━━━━━━\u001b[0m\u001b[37m\u001b[0m \u001b[1m0s\u001b[0m 38ms/step\n",
      "Trouser\n"
     ]
    }
   ],
   "source": [
    "single_input = np.expand_dims(x_train[515], axis=0)\n",
    "prediction = np.argmax(model.predict(single_input))\n",
    "print(class_names[prediction])"
   ]
  },
  {
   "cell_type": "code",
   "execution_count": 101,
   "id": "dadb173e-1da0-4bab-885f-96a27ef9d34a",
   "metadata": {},
   "outputs": [
    {
     "data": {
      "image/png": "[encoded data removed]",
      "text/plain": [
       "<Figure size 300x300 with 1 Axes>"
      ]
     },
     "metadata": {},
     "output_type": "display_data"
    }
   ],
   "source": [
    "show(x_train,y_train,515)"
   ]
  }
 ],
 "metadata": {
  "kernelspec": {
   "display_name": "Python 3 (ipykernel)",
   "language": "python",
   "name": "python3"
  },
  "language_info": {
   "codemirror_mode": {
    "name": "ipython",
    "version": 3
   },
   "file_extension": ".py",
   "mimetype": "text/x-python",
   "name": "python",
   "nbconvert_exporter": "python",
   "pygments_lexer": "ipython3",
   "version": "3.11.7"
  }
 },
 "nbformat": 4,
 "nbformat_minor": 5
}
