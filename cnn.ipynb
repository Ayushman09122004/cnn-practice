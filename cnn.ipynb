{
 "cells": [
  {
   "cell_type": "code",
   "execution_count": 2,
   "id": "6eadcb14-b615-472a-a6da-bc7f29de754a",
   "metadata": {},
   "outputs": [],
   "source": [
    "import pandas as pd \n",
    "import numpy as np "
   ]
  },
  {
   "cell_type": "code",
   "execution_count": 3,
   "id": "889184f3-aac4-4053-8c23-c6fcaf4b19e0",
   "metadata": {},
   "outputs": [],
   "source": [
    "from tensorflow.keras import datasets, layers, models\n",
    "import matplotlib.pyplot as plt\n",
    "import numpy as np"
   ]
  },
  {
   "cell_type": "code",
   "execution_count": 4,
   "id": "66d781a1-d363-47a4-a0d5-0db7c7d065cb",
   "metadata": {},
   "outputs": [],
   "source": [
    "from tensorflow.keras.datasets import fashion_mnist\n",
    "(x_train, y_train), (x_test, y_test) = fashion_mnist.load_data()"
   ]
  },
  {
   "cell_type": "markdown",
   "id": "e4b928b2-f7da-4f53-92aa-188653be1a95",
   "metadata": {},
   "source": [
    "a. Compute and display the number of classes."
   ]
  },
  {
   "cell_type": "code",
   "execution_count": 9,
   "id": "beb9cd56-d0be-4e38-810e-a6022ac4bf5f",
   "metadata": {},
   "outputs": [
    {
     "data": {
      "text/plain": [
       "10"
      ]
     },
     "execution_count": 9,
     "metadata": {},
     "output_type": "execute_result"
    }
   ],
   "source": [
    "class_names = ['T-shirt/top', 'Trouser', 'Pullover', 'Dress', 'Coat', \n",
    "               'Sandal', 'Shirt', 'Sneaker', 'Bag', 'Ankle boot']\n",
    "len(np.unique(y_train))"
   ]
  },
  {
   "cell_type": "code",
   "execution_count": 6,
   "id": "72669dbd-ca8b-47b0-85ba-860eefb3a6b8",
   "metadata": {},
   "outputs": [
    {
     "data": {
      "text/plain": [
       "(60000, 28, 28)"
      ]
     },
     "execution_count": 6,
     "metadata": {},
     "output_type": "execute_result"
    }
   ],
   "source": []
  },
  {
   "cell_type": "markdown",
   "id": "9e30030d-e82e-4f74-aa66-f646d503ca21",
   "metadata": {},
   "source": [
    "b. Compute and display the dimensions of each image. "
   ]
  },
  {
   "cell_type": "code",
   "execution_count": 7,
   "id": "7dd05a82-52b0-4de3-ae56-de1c314c4639",
   "metadata": {},
   "outputs": [
    {
     "data": {
      "text/plain": [
       "(28, 28)"
      ]
     },
     "execution_count": 7,
     "metadata": {},
     "output_type": "execute_result"
    }
   ],
   "source": [
    "x_train[0].shape"
   ]
  },
  {
   "cell_type": "code",
   "execution_count": 10,
   "id": "e19e8637-357e-4ca0-8c9c-c4243cd12227",
   "metadata": {},
   "outputs": [
    {
     "data": {
      "text/plain": [
       "(60000, 28, 28)"
      ]
     },
     "execution_count": 10,
     "metadata": {},
     "output_type": "execute_result"
    }
   ],
   "source": [
    "x_train.shape"
   ]
  },
  {
   "cell_type": "code",
   "execution_count": 12,
   "id": "6a50420f-8b39-4bf9-a874-9bf8ac77c0c8",
   "metadata": {},
   "outputs": [],
   "source": [
    "# displaying image \n",
    "def show (x_train,y_train,i):\n",
    "    plt.figure(figsize=(3,3))\n",
    "    plt.imshow(x_train[i])\n",
    "    plt.xlabel(class_names[y_train[i]])"
   ]
  },
  {
   "cell_type": "code",
   "execution_count": 13,
   "id": "4348de97-c309-4f03-9512-c27c74c9d150",
   "metadata": {},
   "outputs": [
    {
     "data": {
      "image/png": "[encoded data removed]",
      "text/plain": [
       "<Figure size 300x300 with 1 Axes>"
      ]
     },
     "metadata": {},
     "output_type": "display_data"
    }
   ],
   "source": [
    "show(x_train,y_train,24)"
   ]
  },
  {
   "cell_type": "markdown",
   "id": "1f1be3d7-3a81-44f2-a5f6-2d59caa3c791",
   "metadata": {},
   "source": [
    "d. Perform normalization"
   ]
  },
  {
   "cell_type": "code",
   "execution_count": 14,
   "id": "a9ca424b-71b8-4fb3-a5b6-5259e9617a61",
   "metadata": {},
   "outputs": [],
   "source": [
    "x_train=x_train/255"
   ]
  },
  {
   "cell_type": "code",
   "execution_count": 15,
   "id": "6a5a4657-a071-4bb5-ab9f-e303a698888d",
   "metadata": {},
   "outputs": [
    {
     "data": {
      "text/plain": [
       "1.0"
      ]
     },
     "execution_count": 15,
     "metadata": {},
     "output_type": "execute_result"
    }
   ],
   "source": [
    "x_train.max()"
   ]
  },
  {
   "cell_type": "code",
   "execution_count": 13,
   "id": "3a0820da-b826-4fa5-90e8-1cf6ecd52ca8",
   "metadata": {},
   "outputs": [],
   "source": [
    "from tensorflow.keras import Sequential\n",
    "from tensorflow.keras.layers import Flatten, Dense\n",
    "from tensorflow.keras import layers"
   ]
  },
  {
   "cell_type": "code",
   "execution_count": 14,
   "id": "367aa76a-a6b2-4be6-897e-64238da37420",
   "metadata": {},
   "outputs": [
    {
     "data": {
      "text/plain": [
       "(60000, 28, 28)"
      ]
     },
     "execution_count": 14,
     "metadata": {},
     "output_type": "execute_result"
    }
   ],
   "source": [
    "x_train.shape"
   ]
  },
  {
   "cell_type": "code",
   "execution_count": 125,
   "id": "712bef65-b9d9-4205-94eb-27295de83249",
   "metadata": {},
   "outputs": [
    {
     "name": "stderr",
     "output_type": "stream",
     "text": [
      "C:\\Users\\godof\\anaconda3\\Lib\\site-packages\\keras\\src\\layers\\reshaping\\flatten.py:37: UserWarning: Do not pass an `input_shape`/`input_dim` argument to a layer. When using Sequential models, prefer using an `Input(shape)` object as the first layer in the model instead.\n",
      "  super().__init__(**kwargs)\n"
     ]
    }
   ],
   "source": [
    "fcnn=Sequential([\n",
    "    Flatten(input_shape=(28,28,1)),\n",
    "    Dense(2500,activation='relu'),\n",
    "    Dense(1000,activation='relu'),\n",
    "    Dense(200,activation='relu'),\n",
    "    Dense(10,activation='softmax'),\n",
    "])"
   ]
  },
  {
   "cell_type": "code",
   "execution_count": 131,
   "id": "815a9465-c62f-4af6-8e04-5484cd9a9420",
   "metadata": {},
   "outputs": [],
   "source": [
    "cnn2=Sequential([\n",
    "    # 32 filters size 3 by 3 also (3,3) and just 3 mean the same thing\n",
    "    # Stride determines how much the filter shifts (or strides) across the input image at each step during the convolution operation.\n",
    "    # In a 2D convolutional operation, the stride is a 2D parameter because it specifies the movement in both the height and width dimensions of the input volume\n",
    "    layers.Conv2D(filters=32,kernel_size=3,activation='relu',input_shape=(28,28,1),strides=(1,1),padding='valid'),\n",
    "    layers.Conv2D(filters=32,kernel_size=(3,3),activation='relu',input_shape=(28,28,1),strides=(1,1),padding='valid'),\n",
    "    layers.MaxPooling2D((2,2),strides =2 ),\n",
    "    layers.Flatten(),\n",
    "    layers.Dense(100, activation='relu'),\n",
    "    layers.Dense(10, activation='softmax')\n",
    "])"
   ]
  },
  {
   "cell_type": "code",
   "execution_count": 133,
   "id": "c1754baf-d5de-4148-abf8-205f2186e1c6",
   "metadata": {},
   "outputs": [],
   "source": [
    "cnn1 = models.Sequential([\n",
    "    layers.Conv2D(filters=32, kernel_size=(5, 5), activation='relu', input_shape=(28, 28,1),strides=(1,1),padding='valid'),\n",
    "    layers.MaxPooling2D((2,2),strides =2 ),\n",
    "    layers.Flatten(),\n",
    "    layers.Dense(100, activation='relu'),\n",
    "    layers.Dense(10, activation='softmax')\n",
    "])"
   ]
  },
  {
   "cell_type": "code",
   "execution_count": 135,
   "id": "463b17d2-9180-40cb-81a3-1569fb14b870",
   "metadata": {},
   "outputs": [],
   "source": [
    "# Use categorical_crossentropy for one-hot encoded labels.\n",
    "# Use sparse_categorical_crossentropy for integer-encoded labels.\n",
    "cnn.compile(optimizer='adam',loss='sparse_categorical_crossentropy',metrics=['accuracy'])"
   ]
  },
  {
   "cell_type": "code",
   "execution_count": 137,
   "id": "efc59d4c-2726-4ce3-9715-548c92d817f8",
   "metadata": {},
   "outputs": [],
   "source": [
    "cnn2.compile(optimizer='adam',loss='sparse_categorical_crossentropy',metrics=['accuracy'])"
   ]
  },
  {
   "cell_type": "code",
   "execution_count": 139,
   "id": "245ad262-4e85-4682-9371-d2b41afda78f",
   "metadata": {},
   "outputs": [
    {
     "name": "stdout",
     "output_type": "stream",
     "text": [
      "Epoch 1/8\n",
      "\u001b[1m1875/1875\u001b[0m \u001b[32m━━━━━━━━━━━━━━━━━━━━\u001b[0m\u001b[37m\u001b[0m \u001b[1m16s\u001b[0m 7ms/step - accuracy: 0.9884 - loss: 0.0327\n",
      "Epoch 2/8\n",
      "\u001b[1m1875/1875\u001b[0m \u001b[32m━━━━━━━━━━━━━━━━━━━━\u001b[0m\u001b[37m\u001b[0m \u001b[1m13s\u001b[0m 7ms/step - accuracy: 0.9906 - loss: 0.0268\n",
      "Epoch 3/8\n",
      "\u001b[1m1875/1875\u001b[0m \u001b[32m━━━━━━━━━━━━━━━━━━━━\u001b[0m\u001b[37m\u001b[0m \u001b[1m13s\u001b[0m 7ms/step - accuracy: 0.9915 - loss: 0.0268\n",
      "Epoch 4/8\n",
      "\u001b[1m1875/1875\u001b[0m \u001b[32m━━━━━━━━━━━━━━━━━━━━\u001b[0m\u001b[37m\u001b[0m \u001b[1m16s\u001b[0m 9ms/step - accuracy: 0.9918 - loss: 0.0239\n",
      "Epoch 5/8\n",
      "\u001b[1m1875/1875\u001b[0m \u001b[32m━━━━━━━━━━━━━━━━━━━━\u001b[0m\u001b[37m\u001b[0m \u001b[1m17s\u001b[0m 9ms/step - accuracy: 0.9902 - loss: 0.0251\n",
      "Epoch 6/8\n",
      "\u001b[1m1875/1875\u001b[0m \u001b[32m━━━━━━━━━━━━━━━━━━━━\u001b[0m\u001b[37m\u001b[0m \u001b[1m15s\u001b[0m 8ms/step - accuracy: 0.9932 - loss: 0.0196\n",
      "Epoch 7/8\n",
      "\u001b[1m1875/1875\u001b[0m \u001b[32m━━━━━━━━━━━━━━━━━━━━\u001b[0m\u001b[37m\u001b[0m \u001b[1m13s\u001b[0m 7ms/step - accuracy: 0.9915 - loss: 0.0238\n",
      "Epoch 8/8\n",
      "\u001b[1m1875/1875\u001b[0m \u001b[32m━━━━━━━━━━━━━━━━━━━━\u001b[0m\u001b[37m\u001b[0m \u001b[1m14s\u001b[0m 7ms/step - accuracy: 0.9937 - loss: 0.0175\n"
     ]
    }
   ],
   "source": [
    "history=cnn.fit(x_train,y_train,epochs=8)"
   ]
  },
  {
   "cell_type": "code",
   "execution_count": 140,
   "id": "57e7a983-b6fb-4003-acf5-f692629fa159",
   "metadata": {},
   "outputs": [
    {
     "name": "stdout",
     "output_type": "stream",
     "text": [
      "Epoch 1/8\n",
      "\u001b[1m1875/1875\u001b[0m \u001b[32m━━━━━━━━━━━━━━━━━━━━\u001b[0m\u001b[37m\u001b[0m \u001b[1m26s\u001b[0m 12ms/step - accuracy: 0.8090 - loss: 0.5294\n",
      "Epoch 2/8\n",
      "\u001b[1m1875/1875\u001b[0m \u001b[32m━━━━━━━━━━━━━━━━━━━━\u001b[0m\u001b[37m\u001b[0m \u001b[1m25s\u001b[0m 13ms/step - accuracy: 0.9061 - loss: 0.2572\n",
      "Epoch 3/8\n",
      "\u001b[1m1875/1875\u001b[0m \u001b[32m━━━━━━━━━━━━━━━━━━━━\u001b[0m\u001b[37m\u001b[0m \u001b[1m24s\u001b[0m 13ms/step - accuracy: 0.9268 - loss: 0.1965\n",
      "Epoch 4/8\n",
      "\u001b[1m1875/1875\u001b[0m \u001b[32m━━━━━━━━━━━━━━━━━━━━\u001b[0m\u001b[37m\u001b[0m \u001b[1m25s\u001b[0m 13ms/step - accuracy: 0.9399 - loss: 0.1623\n",
      "Epoch 5/8\n",
      "\u001b[1m1875/1875\u001b[0m \u001b[32m━━━━━━━━━━━━━━━━━━━━\u001b[0m\u001b[37m\u001b[0m \u001b[1m21s\u001b[0m 11ms/step - accuracy: 0.9543 - loss: 0.1235\n",
      "Epoch 6/8\n",
      "\u001b[1m1875/1875\u001b[0m \u001b[32m━━━━━━━━━━━━━━━━━━━━\u001b[0m\u001b[37m\u001b[0m \u001b[1m21s\u001b[0m 11ms/step - accuracy: 0.9647 - loss: 0.0956\n",
      "Epoch 7/8\n",
      "\u001b[1m1875/1875\u001b[0m \u001b[32m━━━━━━━━━━━━━━━━━━━━\u001b[0m\u001b[37m\u001b[0m \u001b[1m22s\u001b[0m 12ms/step - accuracy: 0.9728 - loss: 0.0735\n",
      "Epoch 8/8\n",
      "\u001b[1m1875/1875\u001b[0m \u001b[32m━━━━━━━━━━━━━━━━━━━━\u001b[0m\u001b[37m\u001b[0m \u001b[1m22s\u001b[0m 12ms/step - accuracy: 0.9776 - loss: 0.0591\n"
     ]
    }
   ],
   "source": [
    "history2=cnn2.fit(x_train,y_train,epochs=8)"
   ]
  },
  {
   "cell_type": "code",
   "execution_count": 142,
   "id": "6c2d4ff8-323b-4382-ab23-9f88155969d9",
   "metadata": {},
   "outputs": [
    {
     "name": "stdout",
     "output_type": "stream",
     "text": [
      "\u001b[1m313/313\u001b[0m \u001b[32m━━━━━━━━━━━━━━━━━━━━\u001b[0m\u001b[37m\u001b[0m \u001b[1m1s\u001b[0m 2ms/step - accuracy: 0.8742 - loss: 239.8384\n"
     ]
    },
    {
     "data": {
      "text/plain": [
       "[233.69692993164062, 0.8726000189781189]"
      ]
     },
     "execution_count": 142,
     "metadata": {},
     "output_type": "execute_result"
    }
   ],
   "source": [
    "b=cnn.evaluate(x_test,y_test)\n",
    "b"
   ]
  },
  {
   "cell_type": "code",
   "execution_count": 143,
   "id": "0d79c8bb-fc4f-4ced-a975-7e4ccad35aff",
   "metadata": {},
   "outputs": [
    {
     "name": "stdout",
     "output_type": "stream",
     "text": [
      "\u001b[1m313/313\u001b[0m \u001b[32m━━━━━━━━━━━━━━━━━━━━\u001b[0m\u001b[37m\u001b[0m \u001b[1m1s\u001b[0m 3ms/step - accuracy: 0.8483 - loss: 94.2104\n"
     ]
    },
    {
     "data": {
      "text/plain": [
       "[95.31623077392578, 0.8482000231742859]"
      ]
     },
     "execution_count": 143,
     "metadata": {},
     "output_type": "execute_result"
    }
   ],
   "source": [
    "c=cnn2.evaluate(x_test,y_test)\n",
    "c"
   ]
  },
  {
   "cell_type": "code",
   "execution_count": 144,
   "id": "1e754162-47bb-48a0-9ba7-e46ae33e8870",
   "metadata": {},
   "outputs": [
    {
     "data": {
      "text/plain": [
       "(28, 28)"
      ]
     },
     "execution_count": 144,
     "metadata": {},
     "output_type": "execute_result"
    }
   ],
   "source": [
    "x_test[1].shape"
   ]
  },
  {
   "cell_type": "code",
   "execution_count": 155,
   "id": "288fcabd-16d9-42bd-a048-112a4b78f839",
   "metadata": {},
   "outputs": [
    {
     "name": "stdout",
     "output_type": "stream",
     "text": [
      "\u001b[1m1/1\u001b[0m \u001b[32m━━━━━━━━━━━━━━━━━━━━\u001b[0m\u001b[37m\u001b[0m \u001b[1m0s\u001b[0m 21ms/step\n",
      "Shirt\n"
     ]
    }
   ],
   "source": [
    "single_input = np.expand_dims(x_train[33], axis=0)\n",
    "prediction = np.argmax(cnn.predict(single_input))\n",
    "print(class_names[prediction])"
   ]
  },
  {
   "cell_type": "code",
   "execution_count": 157,
   "id": "fcef9d9d-1236-463d-9791-fe9b73c72630",
   "metadata": {},
   "outputs": [
    {
     "name": "stdout",
     "output_type": "stream",
     "text": [
      "\u001b[1m1/1\u001b[0m \u001b[32m━━━━━━━━━━━━━━━━━━━━\u001b[0m\u001b[37m\u001b[0m \u001b[1m0s\u001b[0m 20ms/step\n",
      "Shirt\n"
     ]
    }
   ],
   "source": [
    "single_input2 = np.expand_dims(x_train[33], axis=0)\n",
    "prediction2 = np.argmax(cnn2.predict(single_input))\n",
    "print(class_names[prediction2])"
   ]
  },
  {
   "cell_type": "code",
   "execution_count": 159,
   "id": "dadb173e-1da0-4bab-885f-96a27ef9d34a",
   "metadata": {},
   "outputs": [
    {
     "data": {
      "image/png": "[encoded data removed]",
      "text/plain": [
       "<Figure size 300x300 with 1 Axes>"
      ]
     },
     "metadata": {},
     "output_type": "display_data"
    }
   ],
   "source": [
    "show(x_train,y_train,33)"
   ]
  },
  {
   "cell_type": "code",
   "execution_count": null,
   "id": "5a091398-a98e-40d5-9da1-965c5f8a4243",
   "metadata": {},
   "outputs": [],
   "source": []
  }
 ],
 "metadata": {
  "kernelspec": {
   "display_name": "Python 3 (ipykernel)",
   "language": "python",
   "name": "python3"
  },
  "language_info": {
   "codemirror_mode": {
    "name": "ipython",
    "version": 3
   },
   "file_extension": ".py",
   "mimetype": "text/x-python",
   "name": "python",
   "nbconvert_exporter": "python",
   "pygments_lexer": "ipython3",
   "version": "3.11.7"
  }
 },
 "nbformat": 4,
 "nbformat_minor": 5
}
